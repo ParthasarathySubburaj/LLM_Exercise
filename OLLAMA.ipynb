{
 "cells": [
  {
   "cell_type": "code",
   "execution_count": 21,
   "id": "3b5e3484",
   "metadata": {},
   "outputs": [],
   "source": [
    "url = \"http://localhost:1143/api/chat\""
   ]
  },
  {
   "cell_type": "code",
   "execution_count": 22,
   "id": "d7acb22c",
   "metadata": {},
   "outputs": [],
   "source": [
    "import requests\n",
    "import json\n",
    "\n",
    "\n",
    "def llama(prompt, model):\n",
    "    data = {\n",
    "        \"model\": model,\n",
    "        \"messages\": [\n",
    "            {\n",
    "              \"role\": \"user\",\n",
    "              \"content\": prompt\n",
    "            }\n",
    "        ],\n",
    "        \"stream\": False\n",
    "    }\n",
    "    \n",
    "    headers = {\n",
    "        'Content-Type': 'application/json'\n",
    "    }\n",
    "    \n",
    "    response = requests.post(url, headers=headers, json=data)\n",
    "    return(response.json()['message']['content'])"
   ]
  },
  {
   "cell_type": "code",
   "execution_count": 23,
   "id": "392c7f58",
   "metadata": {},
   "outputs": [
    {
     "name": "stdout",
     "output_type": "stream",
     "text": [
      "The novel \"The Godfather\" was written by Mario Puzo. It was published in 1969 and is considered one of the most influential crime novels of all time.\n",
      "\n",
      "Mario Puzo (1920-1999) was an Italian-American writer, best known for his work on screenplays and novels that often explored themes of crime, family, and the Italian-American experience. In addition to \"The Godfather,\" he wrote several other novels and screenplays, including \"The Last Don\" and the screenplay for Francis Ford Coppola's film adaptation of \"The Godfather.\"\n",
      "\n",
      "Puzo was born in New York City to Italian immigrant parents and grew up in a working-class neighborhood in Manhattan. He served in World War II and later earned a Ph.D. in literature from Georgetown University.\n",
      "\n",
      "\"The Godfather\" is widely regarded as Puzo's masterpiece, and its success helped establish him as a prominent figure in American literature. The novel follows the Corleone family, a powerful Italian-American Mafia clan, as they navigate power struggles, loyalty, and betrayal.\n",
      "\n",
      "Francis Ford Coppola's film adaptation of \"The Godfather\" (1972) became an iconic classic, cementing Puzo's legacy as one of the greatest crime writers of all time.\n"
     ]
    }
   ],
   "source": [
    "response = llama(\"who wrote the book godfather\", \"llama3.1\")\n",
    "print(response)"
   ]
  },
  {
   "cell_type": "code",
   "execution_count": 24,
   "id": "c2b20fda",
   "metadata": {},
   "outputs": [
    {
     "name": "stdout",
     "output_type": "stream",
     "text": [
      "Here is a 2-sentence summary of the Theory of Relativity:\n",
      "\n",
      "According to Albert Einstein's Theory of Special Relativity (1905), time and space are relative, and their measurement depends on the observer's frame of reference: time can appear to slow down or speed up depending on an object's speed and proximity to a massive body. The Theory of General Relativity (1915) built upon this idea, proposing that gravity is not a force, but rather the curvature of spacetime caused by massive objects, which affects the motion of other objects.\n"
     ]
    }
   ],
   "source": [
    "response = llama(\"can you explain theory of relativity in just two sentences?\", \"llama3.1\")\n",
    "print(response)"
   ]
  },
  {
   "cell_type": "code",
   "execution_count": null,
   "id": "a7a40472",
   "metadata": {},
   "outputs": [],
   "source": []
  },
  {
   "cell_type": "code",
   "execution_count": 25,
   "id": "c1390239",
   "metadata": {},
   "outputs": [],
   "source": [
    "import pandas as pd\n",
    "import time"
   ]
  },
  {
   "cell_type": "code",
   "execution_count": 41,
   "id": "6aad62b7",
   "metadata": {},
   "outputs": [],
   "source": [
    "df = pd.read_csv(\"IMDB_Dataset.csv\", nrows=8)"
   ]
  },
  {
   "cell_type": "code",
   "execution_count": 30,
   "id": "61a389a3",
   "metadata": {},
   "outputs": [
    {
     "name": "stdout",
     "output_type": "stream",
     "text": [
      "POSITIVE\n",
      "POSITIVE\n",
      "POSITIVE\n",
      "NEGATIVE\n",
      "POSITIVE\n",
      "Took - 7.355223178863525 seconds\n"
     ]
    }
   ],
   "source": [
    "start = time.time()\n",
    "for _, row in df.iterrows():\n",
    "    movie_review = row.review\n",
    "    prompt = f\"I will give you a movie review, you just need to tell me if it is positve or negative review. \\\n",
    "    Just output one word POSITIVE if the review is has a positive sentiment and \\\n",
    "    NEGATIVE if the review has a negative sentiment. \\\n",
    "    Movie Review: {movie_review}\"\n",
    "    ans = llama(prompt, \"llama3.1\")\n",
    "    print(ans)\n",
    "\n",
    "end = time.time()\n",
    "print(f\"Took - {end - start} seconds\")"
   ]
  },
  {
   "cell_type": "code",
   "execution_count": 31,
   "id": "f47e6e3e",
   "metadata": {},
   "outputs": [],
   "source": [
    "import asyncio\n",
    "import aiohttp"
   ]
  },
  {
   "cell_type": "code",
   "execution_count": 32,
   "id": "9984f249",
   "metadata": {},
   "outputs": [
    {
     "data": {
      "text/plain": [
       "'http://localhost:1143/api/chat'"
      ]
     },
     "execution_count": 32,
     "metadata": {},
     "output_type": "execute_result"
    }
   ],
   "source": [
    "url"
   ]
  },
  {
   "cell_type": "code",
   "execution_count": 34,
   "id": "9a8be690",
   "metadata": {},
   "outputs": [],
   "source": [
    "# Asynchronous function to make requests\n",
    "async def llama_async(session, prompt, model):\n",
    "    data = {\n",
    "        \"model\": model,\n",
    "        \"messages\": [\n",
    "            {\n",
    "                \"role\": \"user\",\n",
    "                \"content\": prompt\n",
    "            }\n",
    "        ],\n",
    "        \"stream\": False\n",
    "    }\n",
    "    \n",
    "    headers = {\n",
    "        'Content-Type': 'application/json'\n",
    "    }\n",
    "    async with session.post(url, headers=headers, json=data) as response:\n",
    "        result = await response.json()\n",
    "        return result['message']['content']"
   ]
  },
  {
   "cell_type": "code",
   "execution_count": 42,
   "id": "bab493ba",
   "metadata": {},
   "outputs": [],
   "source": [
    "# Main function to process all reviews\n",
    "async def process_reviews():\n",
    "    async with aiohttp.ClientSession() as session:\n",
    "        tasks = []\n",
    "        for _, row in df.iterrows():\n",
    "            movie_review = row.review\n",
    "            prompt = f\"I will give you a movie review, you just need to tell me if it is positive or negative review. \\\n",
    "Just output one word POSITIVE if the review has a positive sentiment and \\\n",
    "NEGATIVE if the review has a negative sentiment. \\\n",
    "Movie Review: {movie_review}\"\n",
    "            tasks.append(llama_async(session, prompt, \"llama3.1\"))\n",
    "\n",
    "        results = await asyncio.gather(*tasks)  # Run all tasks concurrently\n",
    "        for sentiment in results:\n",
    "            print(sentiment)\n"
   ]
  },
  {
   "cell_type": "code",
   "execution_count": 44,
   "id": "4784ae38",
   "metadata": {},
   "outputs": [
    {
     "name": "stdout",
     "output_type": "stream",
     "text": [
      "POSITIVE\n",
      "POSITIVE\n",
      "POSITIVE\n",
      "NEGATIVE\n",
      "POSITIVE\n",
      "POSITIVE\n",
      "POSITIVE\n",
      "NEGATIVE\n",
      "Took - 1.0214169025421143 seconds\n"
     ]
    }
   ],
   "source": [
    "start = time.time()\n",
    "# Handling the running event loop\n",
    "try:\n",
    "    # If there's already a running event loop\n",
    "    asyncio.get_running_loop()\n",
    "    task = asyncio.create_task(process_reviews())  # Schedule the task\n",
    "    await task\n",
    "except RuntimeError:\n",
    "    # If no event loop is running\n",
    "    asyncio.run(process_reviews())\n",
    "    \n",
    "end = time.time()\n",
    "print(f\"Took - {end - start} seconds\")"
   ]
  },
  {
   "cell_type": "code",
   "execution_count": null,
   "id": "f20c2210",
   "metadata": {},
   "outputs": [],
   "source": []
  },
  {
   "cell_type": "code",
   "execution_count": null,
   "id": "5fa12ffd",
   "metadata": {},
   "outputs": [],
   "source": [
    "# launchctl setenv OLLAMA_HOST \"0.0.0.0\" OLLAMA_NUM_PARALLEL 10\n",
    "\n",
    "# OLLAMA_NUM_PARALLEL=10 OLLAMA_HOST=127.0.0.1:1143 ollama serve\n",
    "    "
   ]
  },
  {
   "cell_type": "code",
   "execution_count": 25,
   "id": "c35870e5",
   "metadata": {},
   "outputs": [
    {
     "name": "stdout",
     "output_type": "stream",
     "text": [
      "Total time for concurrent requests: 62.753661155700684 seconds\n",
      "{'model': 'llama3.1', 'created_at': '2024-12-26T10:11:56.505031Z', 'message': {'role': 'assistant', 'content': 'The capital of France is Paris.'}, 'done_reason': 'stop', 'done': True, 'total_duration': 4419246541, 'load_duration': 1088405916, 'prompt_eval_count': 17, 'prompt_eval_duration': 404000000, 'eval_count': 8, 'eval_duration': 722000000}\n",
      "{'model': 'llama3.1', 'created_at': '2024-12-26T10:12:54.825493Z', 'message': {'role': 'assistant', 'content': \"One of the most famous and influential scientific theories of the 20th century! Albert Einstein's Theory of Relativity is a fundamental concept in modern physics that has revolutionized our understanding of space, time, and gravity.\\n\\n**What is the Theory of Relativity?**\\n\\nThe Theory of Relativity consists of two main components: Special Relativity (SR) and General Relativity (GR). Both theories are built upon Einstein's insight that the laws of physics are the same for all observers in uniform motion relative to one another.\\n\\n**Special Relativity (1905)**\\n\\nSpecial Relativity postulates that:\\n\\n1. **The laws of physics are invariant**: They remain the same regardless of an observer's speed or position.\\n2. **The speed of light is constant**: It remains the same for all observers, regardless of their relative motion.\\n3. **Time dilation and length contraction occur**: Time appears to pass slower and lengths appear shorter when observed from a moving frame of reference.\\n\\nSome key implications of Special Relativity include:\\n\\n* The famous equation E=mc²: Energy (E) is equal to mass (m) times the speed of light (c) squared. This shows that mass and energy are interchangeable.\\n* Time dilation: Time appears to pass slower for an observer in motion relative to a stationary observer.\\n\\n**General Relativity (1915)**\\n\\nGeneral Relativity builds upon Special Relativity by introducing gravity as a curvature of spacetime caused by massive objects. It postulates that:\\n\\n1. **Gravity is not a force**: Instead, it's the result of the geometry of spacetime being warped and curved by mass-energy.\\n2. **Spacetime is relative**: The laws of physics are still invariant, but now they're expressed in terms of a unified spacetime fabric.\\n\\nSome key implications of General Relativity include:\\n\\n* **Gravitational time dilation**: Time passes slower near massive objects due to the curvature of spacetime.\\n* **Geodesic equation**: The shortest path through spacetime is called a geodesic, which describes the motion of objects under gravity.\\n* **Bending of light around massive objects**: Light follows the curvature of spacetime, causing it to bend and change direction.\\n\\n**Key Principles**\\n\\nSome essential principles that underlie both Special and General Relativity:\\n\\n1. **Spacetime is relative**: Time and space are intertwined as a single fabric called spacetime.\\n2. **The speed of light is fundamental**: It's the maximum speed at which any object or information can travel in the universe.\\n3. **Gravity is geometry**: Gravity arises from the curvature of spacetime caused by massive objects.\\n\\n**Impact on Our Understanding**\\n\\nThe Theory of Relativity has profoundly impacted our understanding of the universe:\\n\\n1. **Cosmology**: The Big Bang theory, black holes, and dark matter are all influenced by General Relativity.\\n2. **Particle physics**: Quantum mechanics is connected to Special Relativity through E=mc².\\n3. **GPS technology**: Our navigation systems rely on accurate calculations based on relativistic principles.\\n\\nThe Theory of Relativity has become a cornerstone of modern physics, reshaping our understanding of the universe and inspiring new areas of research.\"}, 'done_reason': 'stop', 'done': True, 'total_duration': 62740547625, 'load_duration': 1088343708, 'prompt_eval_count': 18, 'prompt_eval_duration': 969000000, 'eval_count': 645, 'eval_duration': 60681000000}\n",
      "{'model': 'llama3.1', 'created_at': '2024-12-26T10:12:36.670494Z', 'message': {'role': 'assistant', 'content': 'Here\\'s a summary of the plot of \"The Matrix\":\\n\\nIn a dystopian future, humanity is unknowingly trapped within a simulated reality called the Matrix. Created by intelligent machines, the Matrix is a complex computer-generated dream world that keeps humans docile and ignorant of their enslavement.\\n\\nThe story follows Neo (Keanu Reeves), a computer hacker who feels a sense of discontent with his mundane life in modern-day society. He\\'s eventually contacted by the enigmatic Morpheus (Laurence Fishburne), who reveals to Neo that everything he knows is false and that he has been \"the One\" prophesied to free humanity from its virtual prison.\\n\\nMorpheus takes Neo on a perilous journey to understand the true nature of reality. They embark on a series of action-packed sequences, including a iconic fight scene in a lobby filled with simulated gunfire. Along the way, they meet other rebels, including Trinity (Carrie-Anne Moss) and Tank (Marcus Chong).\\n\\nAs Neo delves deeper into the Matrix, he discovers that his body is still alive in a pod farm, where humans are harvested for their bioelectric energy to power the machines. He begins to realize his potential as \"The One\" and must confront the Matrix\\'s agents, including Agent Smith (Hugo Weaving), who becomes increasingly aggressive and self-aware.\\n\\nUltimately, Neo\\'s journey culminates in a climactic showdown with the machines\\' leadership, the Oracle (Gloria Foster), and an attempt to free humanity from its digital shackles. The movie ends on a hopeful note, as Neo awakens to his true potential, ready to take on the challenge of liberating humanity.\\n\\n\"The Matrix\" is a thought-provoking science fiction epic that explores themes of reality, free will, and the consequences of advanced technology gone awry.'}, 'done_reason': 'stop', 'done': True, 'total_duration': 44584544334, 'load_duration': 1088087959, 'prompt_eval_count': 20, 'prompt_eval_duration': 1384000000, 'eval_count': 372, 'eval_duration': 42111000000}\n",
      "{'model': 'llama3.1', 'created_at': '2024-12-26T10:11:55.377205Z', 'message': {'role': 'assistant', 'content': 'The square root of 16 is 4.'}, 'done_reason': 'stop', 'done': True, 'total_duration': 3291338833, 'load_duration': 1087321666, 'prompt_eval_count': 19, 'prompt_eval_duration': 970000000, 'eval_count': 11, 'eval_duration': 1233000000}\n",
      "{'model': 'llama3.1', 'created_at': '2024-12-26T10:12:48.607298Z', 'message': {'role': 'assistant', 'content': \"Photosynthesis is a fascinating process by which plants, algae, and some bacteria convert light energy from the sun into chemical energy in the form of organic compounds, such as glucose. This process is essential for life on Earth, as it provides the primary source of energy and organic compounds for nearly all living organisms.\\n\\nHere's a step-by-step explanation of the photosynthesis process:\\n\\n**Light-Dependent Reactions**\\n\\n1. **Light absorption**: Light energy from the sun is absorbed by pigments such as chlorophyll in specialized organelles called thylakoids, located within the cell membrane.\\n2. **Excitation of electrons**: The absorbed light energy excites electrons in the pigment molecules, which are then transferred to a special molecule called an electron acceptor.\\n3. **Transfer of electrons**: The excited electrons are passed along a series of protein complexes in the thylakoid membrane, ultimately resulting in the formation of a high-energy molecule called ATP (adenosine triphosphate).\\n4. **ATP synthesis**: The energy from light is used to generate ATP by transferring phosphate groups from ADP (adenosine diphosphate) to create ATP.\\n\\n**Light-Independent Reactions (Calvin Cycle)**\\n\\n1. **Carbon fixation**: CO2 enters the plant through tiny openings called stomata and reacts with RuBP (ribulose-1,5-bisphosphate) enzyme in the stroma of chloroplasts.\\n2. **Reduction of CO2 to glucose**: The fixed carbon is converted into a three-carbon molecule called 3-phosphoglycerate (PGA), which is then reduced to form glyceraldehyde 3-phosphate (GAP).\\n3. **Regeneration of RuBP**: The GAP molecules are converted back into RuBP, allowing the cycle to repeat.\\n4. **Synthesis of glucose**: The G3P molecules are used to synthesize glucose (C6H12O6) through a series of reactions.\\n\\n**Overall Equation**\\n\\nThe overall equation for photosynthesis is:\\n\\n6 CO2 + 6 H2O + light energy → C6H12O6 (glucose) + 6 O2\\n\\nIn summary, photosynthesis involves the conversion of light energy into chemical energy in the form of ATP and NADPH (nicotinamide adenine dinucleotide phosphate), which are then used to synthesize glucose from CO2. This process is essential for life on Earth, as it provides energy and organic compounds for plants, animals, and microorganisms.\"}, 'done_reason': 'stop', 'done': True, 'total_duration': 56521474708, 'load_duration': 1088446500, 'prompt_eval_count': 17, 'prompt_eval_duration': 1384000000, 'eval_count': 514, 'eval_duration': 54047000000}\n"
     ]
    }
   ],
   "source": [
    "start = time\n",
    "import asyncio\n",
    "import aiohttp\n",
    "import time\n",
    "\n",
    "url = \"http://localhost:1143/api/chat\"\n",
    "\n",
    "# Function to send a single request\n",
    "async def send_request(session, prompt, model):\n",
    "    data = {\n",
    "        \"model\": model,\n",
    "        \"messages\": [\n",
    "            {\"role\": \"user\", \"content\": prompt}\n",
    "        ],\n",
    "        \"stream\": False\n",
    "    }\n",
    "    headers = {\"Content-Type\": \"application/json\"}\n",
    "\n",
    "    async with session.post(url, headers=headers, json=data) as response:\n",
    "        return await response.json()\n",
    "\n",
    "# Test concurrency\n",
    "async def test_concurrency():\n",
    "    prompts = [\n",
    "        \"What is the capital of France?\",\n",
    "        \"Explain the theory of relativity.\",\n",
    "        \"Summarize the plot of 'The Matrix'.\",\n",
    "        \"What is the square root of 16?\",\n",
    "        \"Describe the process of photosynthesis.\"\n",
    "    ]\n",
    "\n",
    "    async with aiohttp.ClientSession() as session:\n",
    "        tasks = [\n",
    "            send_request(session, prompt, \"llama3.1\") for prompt in prompts\n",
    "        ]\n",
    "        start = time.time()\n",
    "        results = await asyncio.gather(*tasks)\n",
    "        end = time.time()\n",
    "        print(f\"Total time for concurrent requests: {end - start} seconds\")\n",
    "        for result in results:\n",
    "            print(result)\n",
    "\n",
    "# Run the test\n",
    "# asyncio.run(test_concurrency())\n",
    "asyncio.get_running_loop()\n",
    "task = asyncio.create_task(test_concurrency())  # Schedule the task\n",
    "await task\n"
   ]
  },
  {
   "cell_type": "code",
   "execution_count": null,
   "id": "aeed491f",
   "metadata": {},
   "outputs": [],
   "source": []
  }
 ],
 "metadata": {
  "kernelspec": {
   "display_name": "Python 3 (ipykernel)",
   "language": "python",
   "name": "python3"
  },
  "language_info": {
   "codemirror_mode": {
    "name": "ipython",
    "version": 3
   },
   "file_extension": ".py",
   "mimetype": "text/x-python",
   "name": "python",
   "nbconvert_exporter": "python",
   "pygments_lexer": "ipython3",
   "version": "3.9.7"
  }
 },
 "nbformat": 4,
 "nbformat_minor": 5
}
