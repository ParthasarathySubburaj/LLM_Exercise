{
 "cells": [
  {
   "cell_type": "code",
   "execution_count": null,
   "id": "e726e5ed",
   "metadata": {},
   "outputs": [],
   "source": [
    "! pip install google-generativeai\n",
    "! pip install langchain-google-genai\n"
   ]
  },
  {
   "cell_type": "code",
   "execution_count": 3,
   "id": "cba65dad",
   "metadata": {},
   "outputs": [],
   "source": [
    "import os"
   ]
  },
  {
   "cell_type": "code",
   "execution_count": 5,
   "id": "c64779dc",
   "metadata": {},
   "outputs": [],
   "source": [
    "import google.generativeai as genai"
   ]
  },
  {
   "cell_type": "code",
   "execution_count": 7,
   "id": "cca01af6",
   "metadata": {},
   "outputs": [],
   "source": [
    "genai.configure(api_key=\"<your_api_key>\")\n",
    "model = genai.GenerativeModel(\"gemini-1.5-flash\")"
   ]
  },
  {
   "cell_type": "code",
   "execution_count": 8,
   "id": "fcbb8150",
   "metadata": {},
   "outputs": [
    {
     "name": "stdout",
     "output_type": "stream",
     "text": [
      "POSITIVE\n",
      "\n"
     ]
    }
   ],
   "source": [
    "response = model.generate_content(\"I will give you a movie review, you just need to tell me if it \\\n",
    "                                   is positve or negative review. Just output one word POSITIVE if the review \\\n",
    "                                   is has a positive sentiment and NEGATIVE if the review has a negative \\\n",
    "                                   sentiment. \\\n",
    "                                   Movie Review: `The movie had a very good story line and a powerful cast` \")\n",
    "print(response.text)"
   ]
  },
  {
   "cell_type": "code",
   "execution_count": 9,
   "id": "bdcaa69c",
   "metadata": {},
   "outputs": [
    {
     "data": {
      "text/plain": [
       "total_tokens: 72"
      ]
     },
     "execution_count": 9,
     "metadata": {},
     "output_type": "execute_result"
    }
   ],
   "source": [
    "model.count_tokens(\"I will give you a movie review, you just need to tell me if it \\\n",
    "                                   is positve or negative review. Just output one word POSITIVE if the review \\\n",
    "                                   is has a positive sentiment and NEGATIVE if the review has a negative \\\n",
    "                                   sentiment. \\\n",
    "                                   Movie Review: `The movie had a very good story line and a powerful cast` \")"
   ]
  },
  {
   "cell_type": "code",
   "execution_count": 6,
   "id": "2db9dbb6",
   "metadata": {},
   "outputs": [],
   "source": [
    "import asyncio\n",
    "\n",
    "async def generate_response():\n",
    "    response = await model.generate_content_async(\"The opposite of hot is\")\n",
    "    print(response.text)\n",
    "\n"
   ]
  },
  {
   "cell_type": "code",
   "execution_count": 8,
   "id": "8a2c7fee",
   "metadata": {},
   "outputs": [
    {
     "name": "stdout",
     "output_type": "stream",
     "text": [
      "Cold\n",
      "\n"
     ]
    }
   ],
   "source": [
    "try:\n",
    "    asyncio.get_running_loop()\n",
    "    # If running inside an existing loop, use `create_task`\n",
    "    task = asyncio.create_task(generate_response())\n",
    "    await task\n",
    "except RuntimeError:\n",
    "    # Otherwise, run normally\n",
    "    asyncio.run(generate_response())"
   ]
  },
  {
   "cell_type": "code",
   "execution_count": 9,
   "id": "16bbe38c",
   "metadata": {},
   "outputs": [
    {
     "data": {
      "text/plain": [
       "<_UnixSelectorEventLoop running=True closed=False debug=False>"
      ]
     },
     "execution_count": 9,
     "metadata": {},
     "output_type": "execute_result"
    }
   ],
   "source": [
    "asyncio.get_running_loop()"
   ]
  },
  {
   "cell_type": "code",
   "execution_count": 10,
   "id": "185d5c5c",
   "metadata": {},
   "outputs": [
    {
     "name": "stdout",
     "output_type": "stream",
     "text": [
      "Cold\n",
      "\n"
     ]
    }
   ],
   "source": [
    "await asyncio.create_task(generate_response())"
   ]
  },
  {
   "cell_type": "code",
   "execution_count": 10,
   "id": "24b165eb",
   "metadata": {},
   "outputs": [
    {
     "name": "stderr",
     "output_type": "stream",
     "text": [
      "/Users/psubburaj/opt/anaconda3/lib/python3.9/site-packages/pandas/core/arrays/masked.py:60: UserWarning: Pandas requires version '1.3.6' or newer of 'bottleneck' (version '1.3.5' currently installed).\n",
      "  from pandas.core import (\n"
     ]
    }
   ],
   "source": [
    "import pandas as pd\n",
    "import time"
   ]
  },
  {
   "cell_type": "code",
   "execution_count": 11,
   "id": "d416abca",
   "metadata": {},
   "outputs": [],
   "source": [
    "df = pd.read_csv(\"IMDB_Dataset.csv\")"
   ]
  },
  {
   "cell_type": "code",
   "execution_count": 12,
   "id": "0058f5b4",
   "metadata": {},
   "outputs": [],
   "source": [
    "df_sample = df[0:10]"
   ]
  },
  {
   "cell_type": "code",
   "execution_count": 13,
   "id": "d2ff68dc",
   "metadata": {},
   "outputs": [
    {
     "data": {
      "text/html": [
       "<div>\n",
       "<style scoped>\n",
       "    .dataframe tbody tr th:only-of-type {\n",
       "        vertical-align: middle;\n",
       "    }\n",
       "\n",
       "    .dataframe tbody tr th {\n",
       "        vertical-align: top;\n",
       "    }\n",
       "\n",
       "    .dataframe thead th {\n",
       "        text-align: right;\n",
       "    }\n",
       "</style>\n",
       "<table border=\"1\" class=\"dataframe\">\n",
       "  <thead>\n",
       "    <tr style=\"text-align: right;\">\n",
       "      <th></th>\n",
       "      <th>review</th>\n",
       "      <th>sentiment</th>\n",
       "    </tr>\n",
       "  </thead>\n",
       "  <tbody>\n",
       "    <tr>\n",
       "      <th>0</th>\n",
       "      <td>One of the other reviewers has mentioned that ...</td>\n",
       "      <td>positive</td>\n",
       "    </tr>\n",
       "    <tr>\n",
       "      <th>1</th>\n",
       "      <td>A wonderful little production. &lt;br /&gt;&lt;br /&gt;The...</td>\n",
       "      <td>positive</td>\n",
       "    </tr>\n",
       "    <tr>\n",
       "      <th>2</th>\n",
       "      <td>I thought this was a wonderful way to spend ti...</td>\n",
       "      <td>positive</td>\n",
       "    </tr>\n",
       "    <tr>\n",
       "      <th>3</th>\n",
       "      <td>Basically there's a family where a little boy ...</td>\n",
       "      <td>negative</td>\n",
       "    </tr>\n",
       "    <tr>\n",
       "      <th>4</th>\n",
       "      <td>Petter Mattei's \"Love in the Time of Money\" is...</td>\n",
       "      <td>positive</td>\n",
       "    </tr>\n",
       "    <tr>\n",
       "      <th>5</th>\n",
       "      <td>Probably my all-time favorite movie, a story o...</td>\n",
       "      <td>positive</td>\n",
       "    </tr>\n",
       "    <tr>\n",
       "      <th>6</th>\n",
       "      <td>I sure would like to see a resurrection of a u...</td>\n",
       "      <td>positive</td>\n",
       "    </tr>\n",
       "    <tr>\n",
       "      <th>7</th>\n",
       "      <td>This show was an amazing, fresh &amp; innovative i...</td>\n",
       "      <td>negative</td>\n",
       "    </tr>\n",
       "    <tr>\n",
       "      <th>8</th>\n",
       "      <td>Encouraged by the positive comments about this...</td>\n",
       "      <td>negative</td>\n",
       "    </tr>\n",
       "    <tr>\n",
       "      <th>9</th>\n",
       "      <td>If you like original gut wrenching laughter yo...</td>\n",
       "      <td>positive</td>\n",
       "    </tr>\n",
       "  </tbody>\n",
       "</table>\n",
       "</div>"
      ],
      "text/plain": [
       "                                              review sentiment\n",
       "0  One of the other reviewers has mentioned that ...  positive\n",
       "1  A wonderful little production. <br /><br />The...  positive\n",
       "2  I thought this was a wonderful way to spend ti...  positive\n",
       "3  Basically there's a family where a little boy ...  negative\n",
       "4  Petter Mattei's \"Love in the Time of Money\" is...  positive\n",
       "5  Probably my all-time favorite movie, a story o...  positive\n",
       "6  I sure would like to see a resurrection of a u...  positive\n",
       "7  This show was an amazing, fresh & innovative i...  negative\n",
       "8  Encouraged by the positive comments about this...  negative\n",
       "9  If you like original gut wrenching laughter yo...  positive"
      ]
     },
     "execution_count": 13,
     "metadata": {},
     "output_type": "execute_result"
    }
   ],
   "source": [
    "df_sample"
   ]
  },
  {
   "cell_type": "code",
   "execution_count": 71,
   "id": "b4b39f76",
   "metadata": {},
   "outputs": [
    {
     "name": "stdout",
     "output_type": "stream",
     "text": [
      "POSITIVE\n",
      "\n"
     ]
    }
   ],
   "source": [
    "response = model.generate_content(\"I will give you a movie review, you just need to tell me if it \\\n",
    "                                   is positve or negative review. Just output one word POSITIVE if the review \\\n",
    "                                   is has a positive sentiment and NEGATIVE if the review has a negative \\\n",
    "                                   sentiment. \\\n",
    "                                   Movie Review: `The movie had a very good story line and a powerful cast` \")\n",
    "print(response.text)"
   ]
  },
  {
   "cell_type": "code",
   "execution_count": 85,
   "id": "5606c553",
   "metadata": {},
   "outputs": [],
   "source": [
    "y_true = df_sample.sentiment"
   ]
  },
  {
   "cell_type": "code",
   "execution_count": 86,
   "id": "78fe0914",
   "metadata": {},
   "outputs": [
    {
     "data": {
      "text/plain": [
       "0    positive\n",
       "1    positive\n",
       "2    positive\n",
       "3    negative\n",
       "4    positive\n",
       "5    positive\n",
       "6    positive\n",
       "7    negative\n",
       "8    negative\n",
       "9    positive\n",
       "Name: sentiment, dtype: object"
      ]
     },
     "execution_count": 86,
     "metadata": {},
     "output_type": "execute_result"
    }
   ],
   "source": [
    "y_true"
   ]
  },
  {
   "cell_type": "code",
   "execution_count": 97,
   "id": "cae843e5",
   "metadata": {},
   "outputs": [
    {
     "name": "stdout",
     "output_type": "stream",
     "text": [
      "POSITIVE\n",
      "\n",
      "POSITIVE\n",
      "\n",
      "POSITIVE\n",
      "\n",
      "NEGATIVE\n",
      "\n",
      "POSITIVE\n",
      "\n",
      "POSITIVE\n",
      "\n",
      "POSITIVE\n",
      "\n",
      "NEGATIVE\n",
      "\n",
      "NEGATIVE\n",
      "\n",
      "POSITIVE\n",
      "\n",
      "Took - 8.650074243545532 seconds\n"
     ]
    }
   ],
   "source": [
    "start = time.time()\n",
    "for _, row in df_sample.iterrows():\n",
    "    movie_review = row.review\n",
    "    prompt = f\"I will give you a movie review, you just need to tell me if it is positve or negative review. \\\n",
    "    Just output one word POSITIVE if the review is has a positive sentiment and \\\n",
    "    NEGATIVE if the review has a negative sentiment. \\\n",
    "    Movie Review: {movie_review}\"\n",
    "    response = model.generate_content(prompt)\n",
    "    print(response.text)\n",
    "\n",
    "end = time.time()\n",
    "print(f\"Took - {end - start} seconds\")"
   ]
  },
  {
   "cell_type": "code",
   "execution_count": 14,
   "id": "ede377ce",
   "metadata": {},
   "outputs": [],
   "source": [
    "import asyncio\n",
    "\n",
    "# Define the async function\n",
    "async def get_sentiment(review):\n",
    "    prompt = f\"I will give you a movie review, you just need to tell me if it is positive or negative review. \\\n",
    "Just output one word POSITIVE if the review has a positive sentiment and \\\n",
    "NEGATIVE if the review has a negative sentiment. \\\n",
    "Movie Review: {review}\"\n",
    "    response = await model.generate_content_async(prompt)\n",
    "    return response.text.strip()  # Return both the review and the sentiment\n",
    "\n"
   ]
  },
  {
   "cell_type": "code",
   "execution_count": 15,
   "id": "ad30abda",
   "metadata": {},
   "outputs": [],
   "source": [
    "# Main function to run all tasks\n",
    "async def main():\n",
    "    tasks = [get_sentiment(review) for review in df_sample.review]\n",
    "    results = await asyncio.gather(*tasks)  # Run tasks concurrently\n",
    "    for sentiment in results:\n",
    "        print(sentiment)"
   ]
  },
  {
   "cell_type": "code",
   "execution_count": 16,
   "id": "e2708ee0",
   "metadata": {},
   "outputs": [
    {
     "name": "stdout",
     "output_type": "stream",
     "text": [
      "POSITIVE\n",
      "POSITIVE\n",
      "POSITIVE\n",
      "NEGATIVE\n",
      "POSITIVE\n",
      "POSITIVE\n",
      "POSITIVE\n",
      "NEGATIVE\n",
      "NEGATIVE\n",
      "POSITIVE\n",
      "Took - 3.621511936187744 seconds\n"
     ]
    }
   ],
   "source": [
    "start = time.time()\n",
    "# Handling the running event loop\n",
    "try:\n",
    "    # If there's already a running event loop\n",
    "    asyncio.get_running_loop()\n",
    "    task = asyncio.create_task(main())  # Schedule the task\n",
    "    await task\n",
    "except RuntimeError:\n",
    "    # If no event loop is running\n",
    "    asyncio.run(main())\n",
    "    \n",
    "end = time.time()\n",
    "print(f\"Took - {end - start} seconds\")"
   ]
  },
  {
   "cell_type": "code",
   "execution_count": null,
   "id": "8cc037b3",
   "metadata": {},
   "outputs": [],
   "source": []
  },
  {
   "cell_type": "markdown",
   "id": "c58a611f",
   "metadata": {},
   "source": [
    "### Working with Images"
   ]
  },
  {
   "cell_type": "code",
   "execution_count": 19,
   "id": "9adb4fa3",
   "metadata": {},
   "outputs": [
    {
     "name": "stdout",
     "output_type": "stream",
     "text": [
      "That's a view of London, England, taken from a high vantage point, likely a tall building or perhaps even a helicopter.  The perspective shows a wide area encompassing several landmarks, including:\n",
      "\n",
      "* **The Houses of Parliament and Big Ben:** These are prominently featured in the center of the image.\n",
      "* **The London Eye:** Visible in the left portion of the photo.\n",
      "* **The Shard:**  This skyscraper is visible in the background.\n",
      "\n",
      "The overall layout and the presence of these landmarks confirm the location as London.  The height suggests the photographer was significantly elevated above street level.\n",
      "\n"
     ]
    }
   ],
   "source": [
    "import httpx\n",
    "import os\n",
    "import base64\n",
    "\n",
    "image_path = \"https://upload.wikimedia.org/wikipedia/commons/thumb/8/87/Palace_of_Westminster_from_the_dome_on_Methodist_Central_Hall.jpg/2560px-Palace_of_Westminster_from_the_dome_on_Methodist_Central_Hall.jpg\"\n",
    "\n",
    "image = httpx.get(image_path)\n",
    "\n",
    "prompt = \"Where is this picture taken from?\"\n",
    "response = model.generate_content([{'mime_type':'image/jpeg', 'data': base64.b64encode(image.content).decode('utf-8')}, prompt])\n",
    "\n",
    "print(response.text)"
   ]
  },
  {
   "cell_type": "code",
   "execution_count": null,
   "id": "6eae0347",
   "metadata": {},
   "outputs": [],
   "source": []
  },
  {
   "cell_type": "code",
   "execution_count": 21,
   "id": "f7be62e6-5628-45bf-b1ba-feec74b64152",
   "metadata": {},
   "outputs": [
    {
     "name": "stdout",
     "output_type": "stream",
     "text": [
      "If you cut the thread attached to the red balloon, the balloon will float away, propelled by the buoyant force of the helium (or other lighter-than-air gas) inside it.  The rate at which it floats away will depend on several factors, including the amount of lift provided by the gas, the weight of the balloon, and any air currents present.\n",
      "\n"
     ]
    }
   ],
   "source": [
    "image_path = \"https://t3.ftcdn.net/jpg/07/59/61/80/360_F_759618035_d01Fw9bfXZxnXwWkpCgS9J6UpTieDSrJ.jpg\"\n",
    "\n",
    "image = httpx.get(image_path)\n",
    "\n",
    "prompt = \"What happens when I cut the thread attached?\"\n",
    "response = model.generate_content([{'mime_type':'image/jpeg', 'data': base64.b64encode(image.content).decode('utf-8')}, prompt])\n",
    "\n",
    "print(response.text)"
   ]
  },
  {
   "cell_type": "code",
   "execution_count": null,
   "id": "d61d5b2f-668f-4729-b900-84d861cded71",
   "metadata": {},
   "outputs": [],
   "source": []
  }
 ],
 "metadata": {
  "kernelspec": {
   "display_name": "Python 3 (ipykernel)",
   "language": "python",
   "name": "python3"
  },
  "language_info": {
   "codemirror_mode": {
    "name": "ipython",
    "version": 3
   },
   "file_extension": ".py",
   "mimetype": "text/x-python",
   "name": "python",
   "nbconvert_exporter": "python",
   "pygments_lexer": "ipython3",
   "version": "3.9.7"
  }
 },
 "nbformat": 4,
 "nbformat_minor": 5
}
